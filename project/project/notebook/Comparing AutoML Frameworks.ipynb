{
 "cells": [
  {
   "cell_type": "markdown",
   "metadata": {},
   "source": [
    "# Comparing AutoML Frameworks"
   ]
  },
  {
   "cell_type": "markdown",
   "metadata": {},
   "source": [
    "#### In the previous notebooks, we saw how to use different AutoML frameworks for regression. here we will try to see how these different frameworks, namely TPOT, H2O AutoML and auto-sklearn, compare against each other."
   ]
  },
  {
   "cell_type": "markdown",
   "metadata": {},
   "source": [
    "## Underlying Algorithm"
   ]
  },
  {
   "cell_type": "markdown",
   "metadata": {},
   "source": [
    "Even though all the 3 frameworks use Auto ML as the underlying principle, Auto ML is just a concept and can be implemented in differnet ways."
   ]
  },
  {
   "cell_type": "markdown",
   "metadata": {},
   "source": [
    "### [TPOT](https://epistasislab.github.io/tpot/)"
   ]
  },
  {
   "cell_type": "markdown",
   "metadata": {},
   "source": [
    "AutoML is the process of automating an end-to-end Machine Learning pipeline. TPOT specifically **uses genetic programming to optimise these pipelines** by selecting the best model and its hyperparameters.\n",
    "\n",
    "TPOT is built on top of scikit-learn and uses scikit learn pipelines as the models.\n"
   ]
  },
  {
   "cell_type": "markdown",
   "metadata": {},
   "source": [
    "Here is one an example of one of the TPOT pipeline:"
   ]
  },
  {
   "cell_type": "markdown",
   "metadata": {},
   "source": [
    "![TPOT](https://raw.githubusercontent.com/EpistasisLab/tpot/master/images/tpot-pipeline-example.png)"
   ]
  },
  {
   "cell_type": "markdown",
   "metadata": {},
   "source": [
    "### [H2O](http://docs.h2o.ai/h2o/latest-stable/h2o-docs/automl.html)"
   ]
  },
  {
   "cell_type": "markdown",
   "metadata": {},
   "source": [
    "The H2O AutoML interface is designed to have as few parameters as possible so that all the user needs to do is point to their dataset, identify the response column and optionally specify a time constraint or limit on the number of total models trained.\n"
   ]
  },
  {
   "cell_type": "markdown",
   "metadata": {},
   "source": [
    "H2O’s AutoML can be used for automating the machine learning workflow, which includes automatic training and tuning of many models within a user-specified time-limit. **Stacked Ensembles** – one based on all previously trained models, another one on the best model of each family – will be automatically trained on collections of individual models to produce highly predictive ensemble models which, in most cases, will be the top performing models in the AutoML Leaderboard."
   ]
  },
  {
   "cell_type": "markdown",
   "metadata": {},
   "source": [
    "### [auto-sklearn](https://automl.github.io/auto-sklearn/stable/)"
   ]
  },
  {
   "cell_type": "markdown",
   "metadata": {},
   "source": [
    "auto-sklearn specifically uses **Bayesian optimization, meta-learning and ensemble construction** to optimise these pipleines by selecting the best model and its hyperparamters.\n"
   ]
  },
  {
   "cell_type": "markdown",
   "metadata": {},
   "source": [
    "Auto-sklearn makes use of scikit-learn pipelines, which contain a series of steps to be performed in a single run. These steps include two major steps, data preprocessing and model selection."
   ]
  },
  {
   "cell_type": "markdown",
   "metadata": {},
   "source": [
    "## Minimum code required"
   ]
  },
  {
   "cell_type": "markdown",
   "metadata": {},
   "source": [
    "### TPOT"
   ]
  },
  {
   "cell_type": "markdown",
   "metadata": {},
   "source": [
    "*iris = load_iris()  \n",
    "X_train, X_test, y_train, y_test = train_test_split(iris.data.astype(np.float64),  \n",
    "    iris.target.astype(np.float64), train_size=0.75, test_size=0.25)*  \n",
    "  \n",
    "*tpot = TPOTClassifier(generations=5, population_size=50, verbosity=2)  \n",
    "tpot.fit(X_train, y_train)  \n",
    "print(tpot.score(X_test, y_test))  \n",
    "tpot.export('tpot_iris_pipeline.py')*"
   ]
  },
  {
   "cell_type": "markdown",
   "metadata": {},
   "source": [
    "### H2O"
   ]
  },
  {
   "cell_type": "markdown",
   "metadata": {},
   "source": [
    "H2O requires a H2O server running before training the models. This requires Java to be installed on the host."
   ]
  },
  {
   "cell_type": "markdown",
   "metadata": {},
   "source": [
    "*import h2o  \n",
    "h2o.init(ip=\"localhost\", port=54323)*"
   ]
  },
  {
   "cell_type": "markdown",
   "metadata": {},
   "source": [
    "Also, H2O uses its own machine learning models and algorithms for training. it also requires data in H2ODataFrame format rather than regular pandas DataFrames, though converting is not that difficut as they have provided the API for that."
   ]
  },
  {
   "cell_type": "markdown",
   "metadata": {},
   "source": [
    "*hf = h2o.H2OFrame(df)  \n",
    "splits = hf.split_frame(ratios = [0.8], seed = 1)  \n",
    "train = splits[0]  \n",
    "test = splits[1]  \n",
    "aml = H2OAutoML(max_runtime_secs =600, seed = 1, project_name = \"H2O_finance\")  \n",
    "aml.train(y = y, training_frame = train, leaderboard_frame = test)* "
   ]
  },
  {
   "cell_type": "markdown",
   "metadata": {},
   "source": [
    "### auto-sklearn"
   ]
  },
  {
   "cell_type": "markdown",
   "metadata": {},
   "source": [
    "*import autosklearn.classification  \n",
    "cls = autosklearn.classification.AutoSklearnClassifier()  \n",
    "cls.fit(X_train, y_train)  \n",
    "predictions = cls.predict(X_test)*"
   ]
  },
  {
   "cell_type": "markdown",
   "metadata": {},
   "source": [
    "## Special Features"
   ]
  },
  {
   "cell_type": "markdown",
   "metadata": {},
   "source": [
    "### TPOT export model"
   ]
  },
  {
   "cell_type": "markdown",
   "metadata": {},
   "source": [
    "TPOT provides an API to export the best model obtained from the AutoML pipeline, as a python file. Supports scikit-learn models out-of-the-box."
   ]
  },
  {
   "cell_type": "markdown",
   "metadata": {},
   "source": [
    "### H2O Flow"
   ]
  },
  {
   "cell_type": "markdown",
   "metadata": {},
   "source": [
    "H2O provides a minimal dashboard for visualing all the different runs of algorithms as well as training metrics, though, it requires Java to be installed. Offers a lot of data preprocessing options."
   ]
  },
  {
   "cell_type": "markdown",
   "metadata": {},
   "source": [
    "### auto-sklearn"
   ]
  },
  {
   "cell_type": "markdown",
   "metadata": {},
   "source": [
    "Supports scikit-learn models out-of-the-box."
   ]
  },
  {
   "cell_type": "markdown",
   "metadata": {},
   "source": [
    "## Comparing performance on Lending Club Data\n",
    "We used all the three libraries to predict interest rates on the Lending CLub Dataset. The pipelines were alowed to run for 10 mins each. Ideal recommendation in the documentation for all the libraries is to run the pipelines for atleast a few hours to get decent results."
   ]
  },
  {
   "cell_type": "code",
   "execution_count": 4,
   "metadata": {},
   "outputs": [],
   "source": [
    "import matplotlib.pyplot as plt\n",
    "import pandas as pd\n",
    "import warnings\n",
    "import seaborn as sns\n",
    "warnings.filterwarnings('ignore')"
   ]
  },
  {
   "cell_type": "code",
   "execution_count": 5,
   "metadata": {},
   "outputs": [
    {
     "name": "stdout",
     "output_type": "stream",
     "text": [
      "        Library  MAPE_train  MAPE_test\n",
      "0          TPOT       0.272      5.334\n",
      "1  auto-sklearn       0.485      4.993\n",
      "2           H2O       1.455      1.789\n"
     ]
    }
   ],
   "source": [
    "lib = ['TPOT','auto-sklearn','H2O'] \n",
    "MAPE_train = [0.272,  0.485,1.455]\n",
    "MAPE_test= [5.334,  4.993,1.789]\n",
    "\n",
    "df = pd.DataFrame(\n",
    "    {'Library': lib,\n",
    "     'MAPE_train': MAPE_train,\n",
    "     'MAPE_test': MAPE_test\n",
    "    })\n",
    "print(df)"
   ]
  },
  {
   "cell_type": "markdown",
   "metadata": {},
   "source": [
    "### MAPE Train"
   ]
  },
  {
   "cell_type": "markdown",
   "metadata": {},
   "source": [
    "Within the limited time of 10 mins and with default configurations, H2O had the lowest Mean Absolute Percentage Error on the training data."
   ]
  },
  {
   "cell_type": "code",
   "execution_count": 6,
   "metadata": {},
   "outputs": [
    {
     "data": {
      "image/png": "[encoded data removed]",
      "text/plain": [
       "<Figure size 360x360 with 1 Axes>"
      ]
     },
     "metadata": {
      "needs_background": "light"
     },
     "output_type": "display_data"
    }
   ],
   "source": [
    "sns.factorplot(x='Library', y='MAPE_train', data=df, kind='bar')\n",
    "plt.title(\"Mean Absolute Percentage Error on Training Data\")\n",
    "plt.ylim(0, 5.5)\n",
    "plt.show()"
   ]
  },
  {
   "cell_type": "markdown",
   "metadata": {},
   "source": [
    "Mean Absolute Percentage Error even for the testing data was lowest for H2O."
   ]
  },
  {
   "cell_type": "code",
   "execution_count": 7,
   "metadata": {},
   "outputs": [
    {
     "data": {
      "image/png": "[encoded data removed]",
      "text/plain": [
       "<Figure size 360x360 with 1 Axes>"
      ]
     },
     "metadata": {
      "needs_background": "light"
     },
     "output_type": "display_data"
    }
   ],
   "source": [
    "sns.factorplot(x='Library', y='MAPE_test',  data=df, kind='bar')\n",
    "plt.title(\"Mean Absolute Percentage Error on Test Data\")\n",
    "plt.ylim(0, 5.5)\n",
    "plt.show()"
   ]
  },
  {
   "cell_type": "markdown",
   "metadata": {},
   "source": [
    "### Comparing automl with the machine learning algorithms we tried earlier on the same dataset"
   ]
  },
  {
   "cell_type": "code",
   "execution_count": 9,
   "metadata": {},
   "outputs": [
    {
     "name": "stdout",
     "output_type": "stream",
     "text": [
      "             Library  MAPE_test\n",
      "0  Linear Regression     19.336\n",
      "1     Neural Network      6.329\n",
      "2      Random Forest      5.713\n",
      "3               TPOT      5.334\n",
      "4       auto-sklearn      4.993\n",
      "5                H2O      1.789\n"
     ]
    }
   ],
   "source": [
    "lib = ['Linear Regression','Neural Network','Random Forest','TPOT','auto-sklearn','H2O', ] \n",
    "MAPE_test= [19.336,6.329,5.713, 5.334,  4.993,1.789]\n",
    "\n",
    "df = pd.DataFrame(\n",
    "    {'Library': lib,\n",
    "     'MAPE_test': MAPE_test\n",
    "    })\n",
    "print(df)"
   ]
  },
  {
   "cell_type": "code",
   "execution_count": 12,
   "metadata": {},
   "outputs": [
    {
     "data": {
      "image/png": "[encoded data removed]",
      "text/plain": [
       "<Figure size 360x360 with 1 Axes>"
      ]
     },
     "metadata": {
      "needs_background": "light"
     },
     "output_type": "display_data"
    }
   ],
   "source": [
    "k = sns.factorplot(x='Library', y='MAPE_test', data=df, kind='bar')\n",
    "k.set_xticklabels(rotation=90)\n",
    "plt.title(\"Mean Absolute Percentage Error on Test Data\")\n",
    "plt.ylim(0, 20)\n",
    "plt.show()"
   ]
  },
  {
   "cell_type": "code",
   "execution_count": null,
   "metadata": {},
   "outputs": [],
   "source": []
  }
 ],
 "metadata": {
  "kernelspec": {
   "display_name": "Python 3",
   "language": "python",
   "name": "python3"
  },
  "language_info": {
   "codemirror_mode": {
    "name": "ipython",
    "version": 3
   },
   "file_extension": ".py",
   "mimetype": "text/x-python",
   "name": "python",
   "nbconvert_exporter": "python",
   "pygments_lexer": "ipython3",
   "version": "3.6.6"
  }
 },
 "nbformat": 4,
 "nbformat_minor": 2
}
